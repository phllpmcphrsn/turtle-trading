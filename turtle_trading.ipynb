{
 "cells": [
  {
   "cell_type": "code",
   "execution_count": 1,
   "metadata": {},
   "outputs": [],
   "source": [
    "import pandas as pd\n",
    "import numpy as np\n",
    "import yfinance as yf\n",
    "import ipywidgets as widgets\n",
    "\n",
    "from IPython.display import display"
   ]
  },
  {
   "cell_type": "code",
   "execution_count": 6,
   "metadata": {},
   "outputs": [],
   "source": [
    "# TODO: Should implement Enum for chart_period\n",
    "# class ChartPeriod(Enum)\n",
    "class TurtleProperties:\n",
    "    \"\"\"\n",
    "    Holds the properties of the Turtle Trading Strategy\n",
    "\n",
    "    Keyword Arguments:\n",
    "    ticker -- Stock ticker\n",
    "    chart_period -- Valid periods: \"1d\",\"5d\",\"1mo\",\"3mo\",\"6mo\",\"1y\",\"2y\",\"5y\",\"10y\",\"ytd\",\"max\"\n",
    "    moving_avg_period -- Number of days for moving average and average true range\n",
    "    atr_multiple_stop_loss -- Multiple of ATR to use for stop loss\n",
    "    atr_multiple_for_positions -- Multiple of ATR to use for adding to position\n",
    "    risk -- Fraction of equity to risk per trade\n",
    "    \n",
    "    \"\"\"\n",
    "    def __init__(self, ticker, chart_period, moving_avg_period, atr_multiple_stop_loss, atr_multiple_for_positions, risk) -> None:\n",
    "        self.ticker = ticker \n",
    "        self.chart_period = chart_period\n",
    "        self.moving_avg_period = moving_avg_period\n",
    "        self.atr_multiple_stop_loss = atr_multiple_stop_loss\n",
    "        self.atr_multiple_for_positions = atr_multiple_for_positions\n",
    "        self.risk = risk"
   ]
  },
  {
   "cell_type": "code",
   "execution_count": 7,
   "metadata": {},
   "outputs": [],
   "source": [
    "output = widgets.Output()"
   ]
  },
  {
   "cell_type": "code",
   "execution_count": null,
   "metadata": {},
   "outputs": [],
   "source": [
    "# Calculate the True Range for each day\n",
    "true_range = pd.DataFrame({\n",
    "    \"TR1\": abs(data[\"High\"] - data[\"Low\"]),\n",
    "    \"TR2\": abs(data[\"High\"] - data[\"Adj Close\"].shift(1)),\n",
    "    \"TR3\": abs(data[\"Low\"] - data[\"Adj Close\"].shift(1))\n",
    "})\n",
    "data[\"TR\"] = true_range.max(axis=1)\n",
    "\n",
    "# Calculate the Average True Range (ATR)\n",
    "data[\"ATR\"] = data[\"TR\"].rolling(window=N+1).mean()\n",
    "display(data)"
   ]
  },
  {
   "cell_type": "code",
   "execution_count": null,
   "metadata": {},
   "outputs": [],
   "source": [
    "# Calculate the entry and exit points for long positions\n",
    "data[\"long_entry\"] = data[\"High\"].rolling(window=N+1).max().shift(1)\n",
    "data[\"long_exit\"] = data[\"Low\"].rolling(window=N+1).min().shift(1)\n",
    "\n",
    "# Calculate the entry and exit points for short positions\n",
    "data[\"short_entry\"] = data[\"Low\"].rolling(window=N+1).min().shift(1)\n",
    "data[\"short_exit\"] = data[\"High\"].rolling(window=N+1).max().shift(1)\n",
    "display(data)"
   ]
  },
  {
   "cell_type": "code",
   "execution_count": null,
   "metadata": {},
   "outputs": [],
   "source": [
    "# Create a DataFrame to store the trading signals and the cumulative returns\n",
    "signals = pd.DataFrame(index=data.index)\n",
    "signals[\"signal\"] = 0.0\n",
    "signals[\"signal\"] = np.where(data[\"Adj Close\"] > data[\"long_entry\"], 1.0, signals[\"signal\"])\n",
    "signals[\"signal\"] = np.where(data[\"Adj Close\"] < data[\"short_entry\"], -1.0, signals[\"signal\"])\n",
    "signals[\"positions\"] = signals[\"signal\"].diff()\n",
    "signals[\"returns\"] = np.log(data[\"Adj Close\"]/data[\"Adj Close\"].shift(1))\n",
    "display(signals)"
   ]
  },
  {
   "cell_type": "code",
   "execution_count": null,
   "metadata": {},
   "outputs": [],
   "source": [
    "# Backtest the trading signals\n",
    "initial_capital = float(100000.0)\n",
    "positions = pd.DataFrame(index=signals.index).fillna(0.0)\n",
    "positions[\"RIG\"] = 100 * signals[\"signal\"]\n",
    "portfolio = positions.multiply(data[\"Adj Close\"], axis=0)\n",
    "pos_diff = positions.diff()\n",
    "portfolio[\"holdings\"] = (positions.multiply(data[\"Adj Close\"], axis=0)).sum(axis=1)\n",
    "portfolio[\"cash\"] = initial_capital - (pos_diff.multiply(data[\"Adj Close\"], axis=0)).sum(axis=1).cumsum()\n",
    "portfolio[\"total\"] = portfolio[\"cash\"] + portfolio[\"holdings\"]\n",
    "portfolio[\"returns\"] = portfolio[\"total\"].pct_change()\n",
    "# Print the final portfolio value and the Sharpe ratio\n",
    "print(\"Final Portfolio Value: ${:.2f}\".format(portfolio[\"total\"].iloc[-1]))"
   ]
  },
  {
   "cell_type": "code",
   "execution_count": null,
   "metadata": {},
   "outputs": [],
   "source": [
    "# indicates how much return an investor is receiving for each fractional_equity of risk taken\n",
    "print(\"Sharpe Ratio: {:.2f}\".format((portfolio[\"returns\"].mean() / portfolio[\"returns\"].std()) * np.sqrt(252)))\n",
    "data['ATR'].ewm"
   ]
  },
  {
   "cell_type": "code",
   "execution_count": 16,
   "metadata": {},
   "outputs": [],
   "source": [
    "# Load historical data\n",
    "def run(btn, turtle: TurtleProperties):\n",
    "    with output:\n",
    "        output.clear_output()\n",
    "        data = yf.download(turtle.ticker, period=turtle.chart_period)\n",
    "        display(data)"
   ]
  },
  {
   "cell_type": "code",
   "execution_count": 19,
   "metadata": {},
   "outputs": [
    {
     "data": {
      "application/vnd.jupyter.widget-view+json": {
       "model_id": "ec9975ea4e764ac39c15ddf88eefb013",
       "version_major": 2,
       "version_minor": 0
      },
      "text/plain": [
       "VBox(children=(Box(children=(Text(value='', placeholder='Ticker'), Dropdown(options=('1d', '5d', '1mo', '3mo',…"
      ]
     },
     "metadata": {},
     "output_type": "display_data"
    },
    {
     "data": {
      "application/vnd.jupyter.widget-view+json": {
       "model_id": "67b31f8004594bc3b1014de2cfa5563d",
       "version_major": 2,
       "version_minor": 0
      },
      "text/plain": [
       "Button(description='Submit', style=ButtonStyle(), tooltip='Submit')"
      ]
     },
     "metadata": {},
     "output_type": "display_data"
    },
    {
     "data": {
      "application/vnd.jupyter.widget-view+json": {
       "model_id": "f8327fa4375845449efacbd8a1a455e1",
       "version_major": 2,
       "version_minor": 0
      },
      "text/plain": [
       "Output(outputs=({'name': 'stdout', 'text': '[*********************100%***********************]  0 of 0 complet…"
      ]
     },
     "metadata": {},
     "output_type": "display_data"
    },
    {
     "ename": "TypeError",
     "evalue": "run() missing 1 required positional argument: 'turtle'",
     "output_type": "error",
     "traceback": [
      "\u001b[1;31m---------------------------------------------------------------------------\u001b[0m",
      "\u001b[1;31mTypeError\u001b[0m                                 Traceback (most recent call last)",
      "\u001b[1;31mTypeError\u001b[0m: run() missing 1 required positional argument: 'turtle'"
     ]
    }
   ],
   "source": [
    "# User Interface setup\n",
    "ticker_widget = widgets.Text(placeholder = \"Ticker\")\n",
    "chart_period_widget = widgets.Dropdown(\n",
    "    options = [\"1d\",\"5d\",\"1mo\",\"3mo\",\"6mo\",\"1y\",\"2y\",\"5y\",\"10y\",\"ytd\",\"max\"],\n",
    "    placeholder = \"Chart Period\")\n",
    "moving_avg_period_widget = widgets.Text(placeholder = \"Period of Days for Moving Averages\")\n",
    "top_box = widgets.Box([ticker_widget, chart_period_widget, moving_avg_period_widget])\n",
    "\n",
    "atr_multiple_stop_loss_widget = widgets.Text(placeholder = \"Multiple of ATR for Stop Loss\")\n",
    "atr_multiple_for_positions_widget = widgets.Text(placeholder = \"Multiple of ATR for Additional Positions\")\n",
    "risk_widget = widgets.Text(placeholder = \"Risk per Trade\")\n",
    "bottom_box = widgets.Box([atr_multiple_stop_loss_widget, atr_multiple_for_positions_widget, risk_widget])\n",
    "\n",
    "vert_box = widgets.VBox([top_box, bottom_box])\n",
    "turtle = TurtleProperties(\n",
    "    ticker_widget.value, \n",
    "    chart_period_widget.value, \n",
    "    moving_avg_period_widget.value, \n",
    "    atr_multiple_stop_loss_widget.value, \n",
    "    atr_multiple_for_positions_widget.value, \n",
    "    risk_widget.value)\n",
    "button = widgets.Button(\n",
    "    description='Submit',\n",
    "    disabled=False,\n",
    "    button_style='', # 'success', 'info', 'warning', 'danger' or ''\n",
    "    tooltip='Submit',\n",
    ")\n",
    "\n",
    "display(vert_box)\n",
    "display(button)\n",
    "\n",
    "button.on_click(run)\n",
    "display(output)"
   ]
  }
 ],
 "metadata": {
  "kernelspec": {
   "display_name": "turtle",
   "language": "python",
   "name": "python3"
  },
  "language_info": {
   "codemirror_mode": {
    "name": "ipython",
    "version": 3
   },
   "file_extension": ".py",
   "mimetype": "text/x-python",
   "name": "python",
   "nbconvert_exporter": "python",
   "pygments_lexer": "ipython3",
   "version": "3.10.9"
  },
  "orig_nbformat": 4,
  "vscode": {
   "interpreter": {
    "hash": "7f8986f67103cd9a4d96d2ddfbbc29a025c429c7a2b9401328ebddb234e0084f"
   }
  }
 },
 "nbformat": 4,
 "nbformat_minor": 2
}
