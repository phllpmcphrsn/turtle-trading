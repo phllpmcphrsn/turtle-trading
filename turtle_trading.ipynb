{
 "cells": [
  {
   "cell_type": "code",
   "execution_count": null,
   "metadata": {},
   "outputs": [],
   "source": [
    "import pandas as pd\n",
    "import numpy as np\n",
    "import yfinance as yf"
   ]
  },
  {
   "cell_type": "code",
   "execution_count": null,
   "metadata": {},
   "outputs": [],
   "source": [
    "\n",
    "# Define parameters\n",
    "N = 55 # Number of days for moving average and average true range\n",
    "K1 = 2 # Multiple of ATR to use for stop loss\n",
    "K2 = 0.5 # Multiple of ATR to use for adding to position\n",
    "fractional_equity = 0.02 # Fraction of equity to risk per trade\n",
    "\n",
    "# Load historical data\n",
    "ticker = \"RIG\"\n",
    "data = yf.download(ticker, period=\"1y\")"
   ]
  },
  {
   "cell_type": "code",
   "execution_count": null,
   "metadata": {},
   "outputs": [],
   "source": [
    "from IPython.display import display\n",
    "display(data)"
   ]
  },
  {
   "cell_type": "code",
   "execution_count": null,
   "metadata": {},
   "outputs": [],
   "source": [
    "# Calculate the True Range for each day\n",
    "true_range = pd.DataFrame({\n",
    "    \"TR1\": abs(data[\"High\"] - data[\"Low\"]),\n",
    "    \"TR2\": abs(data[\"High\"] - data[\"Adj Close\"].shift(1)),\n",
    "    \"TR3\": abs(data[\"Low\"] - data[\"Adj Close\"].shift(1))\n",
    "})\n",
    "data[\"TR\"] = true_range.max(axis=1)\n",
    "\n",
    "# Calculate the Average True Range (ATR)\n",
    "data[\"ATR\"] = data[\"TR\"].rolling(window=N+1).mean()\n",
    "display(data)"
   ]
  },
  {
   "cell_type": "code",
   "execution_count": null,
   "metadata": {},
   "outputs": [],
   "source": [
    "# Calculate the entry and exit points for long positions\n",
    "data[\"long_entry\"] = data[\"High\"].rolling(window=N+1).max().shift(1)\n",
    "data[\"long_exit\"] = data[\"Low\"].rolling(window=N+1).min().shift(1)\n",
    "\n",
    "# Calculate the entry and exit points for short positions\n",
    "data[\"short_entry\"] = data[\"Low\"].rolling(window=N+1).min().shift(1)\n",
    "data[\"short_exit\"] = data[\"High\"].rolling(window=N+1).max().shift(1)\n",
    "display(data)"
   ]
  },
  {
   "cell_type": "code",
   "execution_count": null,
   "metadata": {},
   "outputs": [],
   "source": [
    "# Create a DataFrame to store the trading signals and the cumulative returns\n",
    "signals = pd.DataFrame(index=data.index)\n",
    "signals[\"signal\"] = 0.0\n",
    "signals[\"signal\"] = np.where(data[\"Adj Close\"] > data[\"long_entry\"], 1.0, signals[\"signal\"])\n",
    "signals[\"signal\"] = np.where(data[\"Adj Close\"] < data[\"short_entry\"], -1.0, signals[\"signal\"])\n",
    "signals[\"positions\"] = signals[\"signal\"].diff()\n",
    "signals[\"returns\"] = np.log(data[\"Adj Close\"]/data[\"Adj Close\"].shift(1))\n",
    "display(signals)"
   ]
  },
  {
   "cell_type": "code",
   "execution_count": null,
   "metadata": {},
   "outputs": [],
   "source": [
    "# Backtest the trading signals\n",
    "initial_capital = float(100000.0)\n",
    "positions = pd.DataFrame(index=signals.index).fillna(0.0)\n",
    "positions[\"RIG\"] = 100 * signals[\"signal\"]\n",
    "portfolio = positions.multiply(data[\"Adj Close\"], axis=0)\n",
    "pos_diff = positions.diff()\n",
    "portfolio[\"holdings\"] = (positions.multiply(data[\"Adj Close\"], axis=0)).sum(axis=1)\n",
    "portfolio[\"cash\"] = initial_capital - (pos_diff.multiply(data[\"Adj Close\"], axis=0)).sum(axis=1).cumsum()\n",
    "portfolio[\"total\"] = portfolio[\"cash\"] + portfolio[\"holdings\"]\n",
    "portfolio[\"returns\"] = portfolio[\"total\"].pct_change()\n",
    "# Print the final portfolio value and the Sharpe ratio\n",
    "print(\"Final Portfolio Value: ${:.2f}\".format(portfolio[\"total\"].iloc[-1]))"
   ]
  },
  {
   "cell_type": "code",
   "execution_count": null,
   "metadata": {},
   "outputs": [],
   "source": [
    "# indicates how much return an investor is receiving for each fractional_equity of risk taken\n",
    "print(\"Sharpe Ratio: {:.2f}\".format((portfolio[\"returns\"].mean() / portfolio[\"returns\"].std()) * np.sqrt(252)))\n",
    "data['ATR'].ewm"
   ]
  }
 ],
 "metadata": {
  "kernelspec": {
   "display_name": "turtle",
   "language": "python",
   "name": "python3"
  },
  "language_info": {
   "codemirror_mode": {
    "name": "ipython",
    "version": 3
   },
   "file_extension": ".py",
   "mimetype": "text/x-python",
   "name": "python",
   "nbconvert_exporter": "python",
   "pygments_lexer": "ipython3",
   "version": "3.10.9"
  },
  "orig_nbformat": 4,
  "vscode": {
   "interpreter": {
    "hash": "7f8986f67103cd9a4d96d2ddfbbc29a025c429c7a2b9401328ebddb234e0084f"
   }
  }
 },
 "nbformat": 4,
 "nbformat_minor": 2
}
